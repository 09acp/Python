{
 "cells": [
  {
   "cell_type": "markdown",
   "id": "5ffd6f1d",
   "metadata": {},
   "source": [
    "\n",
    "\n",
    "\n"
   ]
  },
  {
   "cell_type": "markdown",
   "id": "4588afa0",
   "metadata": {},
   "source": [
    "# Benefits of using Python Classes\n",
    "- examples: https://www.programiz.com/python-programming/object-oriented-programming\n"
   ]
  },
  {
   "cell_type": "markdown",
   "id": "2cb34fb9",
   "metadata": {},
   "source": [
    "### Overview"
   ]
  },
  {
   "cell_type": "code",
   "execution_count": 6,
   "id": "ac6b73cf",
   "metadata": {},
   "outputs": [
    {
     "name": "stdout",
     "output_type": "stream",
     "text": [
      "Alex has a balance of $100 \n"
     ]
    }
   ],
   "source": [
    "# class \n",
    "class Trader:  \n",
    "    # attributes \n",
    "    name = \"\"\n",
    "    pnl = \"\"\n",
    "    \n",
    "trader_1 = Trader() # object or instance \n",
    "trader_1.name = \"Alex\" # attributes #1 \n",
    "trader_1.pnl = \"$100\"\n",
    "\n",
    "# can easily access class attributes for different objects\n",
    "print( f\"{trader_1.name} has a balance of {trader_1.pnl} \" )"
   ]
  },
  {
   "cell_type": "markdown",
   "id": "d7d2d145",
   "metadata": {},
   "source": [
    "### Inheritance\n",
    "- more on inheritance:  https://www.programiz.com/python-programming/inheritance\n",
    "- Advanced Example: https://realpython.com/inheritance-composition-python/#implementation-inheritance-vs-interface-inheritance\n",
    "\n",
    "- subclass inherits all attributes & methods of superclass \n",
    "> what's the use?\n",
    "> - re-use logic\n",
    "> - clean/mentain\n",
    "> - inherit only key attributes and customise child "
   ]
  },
  {
   "cell_type": "code",
   "execution_count": null,
   "id": "11241b4e",
   "metadata": {},
   "outputs": [],
   "source": []
  },
  {
   "cell_type": "code",
   "execution_count": null,
   "id": "5f1cda85",
   "metadata": {},
   "outputs": [],
   "source": [
    "\n",
    "\n"
   ]
  }
 ],
 "metadata": {
  "kernelspec": {
   "display_name": "Python 3",
   "language": "python",
   "name": "python3"
  },
  "language_info": {
   "codemirror_mode": {
    "name": "ipython",
    "version": 3
   },
   "file_extension": ".py",
   "mimetype": "text/x-python",
   "name": "python",
   "nbconvert_exporter": "python",
   "pygments_lexer": "ipython3",
   "version": "3.8.8"
  }
 },
 "nbformat": 4,
 "nbformat_minor": 5
}
